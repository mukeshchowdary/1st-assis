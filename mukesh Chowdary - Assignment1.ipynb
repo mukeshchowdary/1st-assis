{
 "cells": [
  {
   "cell_type": "markdown",
   "metadata": {
    "toc": true
   },
   "source": [
    "<h1>Table of Contents<span class=\"tocSkip\"></span></h1>\n",
    "<div class=\"toc\"><ul class=\"toc-item\"><li><span><a href=\"#Create-the-following-patters-using-string-concatenation-and-string-multiplication:\" data-toc-modified-id=\"Create-the-following-patters-using-string-concatenation-and-string-multiplication:-1\"><span class=\"toc-item-num\">1&nbsp;&nbsp;</span>Create the following patters using string concatenation and string multiplication:</a></span></li><li><span><a href=\"#Try-using-string-functions:-upper,-lower,-capitalize,-title-with\" data-toc-modified-id=\"Try-using-string-functions:-upper,-lower,-capitalize,-title-with-2\"><span class=\"toc-item-num\">2&nbsp;&nbsp;</span>Try using string functions: upper, lower, capitalize, title with</a></span></li><li><span><a href=\"#Explain-what-happens-when-the-following-code-is-executed-and-why?\" data-toc-modified-id=\"Explain-what-happens-when-the-following-code-is-executed-and-why?-3\"><span class=\"toc-item-num\">3&nbsp;&nbsp;</span>Explain what happens when the following code is executed and why?</a></span></li><li><span><a href=\"#Take-a-user-input-string-and-check-if-the-string-is-a-palindrome:\" data-toc-modified-id=\"Take-a-user-input-string-and-check-if-the-string-is-a-palindrome:-4\"><span class=\"toc-item-num\">4&nbsp;&nbsp;</span>Take a user input string and check if the string is a palindrome:</a></span></li><li><span><a href=\"#Take-user-input:-Side-of-a-square-and-calculate\" data-toc-modified-id=\"Take-user-input:-Side-of-a-square-and-calculate-5\"><span class=\"toc-item-num\">5&nbsp;&nbsp;</span>Take user input: Side of a square and calculate</a></span></li><li><span><a href=\"#Take-a-user-input-num-and-check-if-the-number-is-True-or-not\" data-toc-modified-id=\"Take-a-user-input-num-and-check-if-the-number-is-True-or-not-6\"><span class=\"toc-item-num\">6&nbsp;&nbsp;</span>Take a user input <code>num</code> and check if the number is True or not</a></span></li><li><span><a href=\"#Take-user-input-in-numbers-and-return-the-number-in-reverse-order-multiplied-by-10\" data-toc-modified-id=\"Take-user-input-in-numbers-and-return-the-number-in-reverse-order-multiplied-by-10-7\"><span class=\"toc-item-num\">7&nbsp;&nbsp;</span>Take user input in numbers and return the number in reverse order multiplied by 10</a></span></li><li><span><a href=\"#Find-square-root-of-given-number-without-using-math.sqrt-function\" data-toc-modified-id=\"Find-square-root-of-given-number-without-using-math.sqrt-function-8\"><span class=\"toc-item-num\">8&nbsp;&nbsp;</span>Find square root of given number without using math.sqrt function</a></span></li><li><span><a href=\"#Take-user-input-string-and-return-the-first-half-of-the-string-in-same-order-and-the-second-half-in-reverse\" data-toc-modified-id=\"Take-user-input-string-and-return-the-first-half-of-the-string-in-same-order-and-the-second-half-in-reverse-9\"><span class=\"toc-item-num\">9&nbsp;&nbsp;</span>Take user input string and return the first half of the string in same order and the second half in reverse</a></span></li><li><span><a href=\"#Create-a-string-from-the-input-string-with-only-odd-index-characters:\" data-toc-modified-id=\"Create-a-string-from-the-input-string-with-only-odd-index-characters:-10\"><span class=\"toc-item-num\">10&nbsp;&nbsp;</span>Create a string from the input string with only odd index characters:</a></span></li><li><span><a href=\"#Take-2-numbers-and-give-back-sum-of-squares-of-the-numbers:\" data-toc-modified-id=\"Take-2-numbers-and-give-back-sum-of-squares-of-the-numbers:-11\"><span class=\"toc-item-num\">11&nbsp;&nbsp;</span>Take 2 numbers and give back sum of squares of the numbers:</a></span></li><li><span><a href=\"#For-inputs-mystr,-n1-and-n2,-remove-the-part-of-string-from-index-n1-to-n2:\" data-toc-modified-id=\"For-inputs-mystr,-n1-and-n2,-remove-the-part-of-string-from-index-n1-to-n2:-12\"><span class=\"toc-item-num\">12&nbsp;&nbsp;</span>For inputs mystr, n1 and n2, remove the part of string from index n1 to n2:</a></span></li><li><span><a href=\"#Take-2-inputs:-String-and-a-character.-Give-the-string-after-the-specified-character\" data-toc-modified-id=\"Take-2-inputs:-String-and-a-character.-Give-the-string-after-the-specified-character-13\"><span class=\"toc-item-num\">13&nbsp;&nbsp;</span>Take 2 inputs: String and a character. Give the string after the specified character</a></span></li><li><span><a href=\"#Take-2-string-inputs-and-return-length-of-the-bigger-string\" data-toc-modified-id=\"Take-2-string-inputs-and-return-length-of-the-bigger-string-14\"><span class=\"toc-item-num\">14&nbsp;&nbsp;</span>Take 2 string inputs and return length of the bigger string</a></span></li><li><span><a href=\"#Take-2-inputs,-str1-is-topic,-str2-is-username.-Using-single-f-string,-assuming-str1-is-Python-and-str2-is-User,-print:\" data-toc-modified-id=\"Take-2-inputs,-str1-is-topic,-str2-is-username.-Using-single-f-string,-assuming-str1-is-Python-and-str2-is-User,-print:-15\"><span class=\"toc-item-num\">15&nbsp;&nbsp;</span>Take 2 inputs, str1 is topic, str2 is username. Using single f-string, assuming str1 is Python and str2 is User, print:</a></span></li></ul></div>"
   ]
  },
  {
   "cell_type": "markdown",
   "metadata": {},
   "source": [
    "#### Create the following patters using string concatenation and string multiplication:\n",
    "\n",
    "- abcabcabcdefdefabcdefabcabcabc\n",
    "- ababcababababcabcabababc"
   ]
  },
  {
   "cell_type": "code",
   "execution_count": 33,
   "metadata": {},
   "outputs": [
    {
     "name": "stdout",
     "output_type": "stream",
     "text": [
      "abcabcabcdefdefabcdefabcabcabcababcababababcabcabababc\n"
     ]
    }
   ],
   "source": [
    "a='abcabcabcdefdefabcdefabcabcabc'\n",
    "b='ababcababababcabcabababc'\n",
    "print(a+b)\n"
   ]
  },
  {
   "cell_type": "code",
   "execution_count": 10,
   "metadata": {},
   "outputs": [
    {
     "name": "stdout",
     "output_type": "stream",
     "text": [
      "abcabcabcdefdefabcdefabcabcabcabcabcabcdefdefabcdefabcabcabc\n",
      "ababcababababcabcabababcababcababababcabcabababcababcababababcabcabababc\n"
     ]
    }
   ],
   "source": [
    "a='abcabcabcdefdefabcdefabcabcabc'\n",
    "b='ababcababababcabcabababc'\n",
    "c=a*2\n",
    "d=b*3\n",
    "print(c)\n",
    "print(d)"
   ]
  },
  {
   "cell_type": "markdown",
   "metadata": {},
   "source": [
    "#### Try using string functions: upper, lower, capitalize, title with \n",
    "- Strings with mixed case eg: \"HeLlo\"\n",
    "- Strings with numbers eg: \"Hello25\"\n",
    "- Strings with special characters eg: \"Hello@25\""
   ]
  },
  {
   "cell_type": "code",
   "execution_count": 5,
   "metadata": {},
   "outputs": [
    {
     "name": "stdout",
     "output_type": "stream",
     "text": [
      "HELLO\n",
      "hello\n",
      "Hello\n"
     ]
    }
   ],
   "source": [
    "a='HeLlo'\n",
    "print(a.upper())\n",
    "print(a.lower())\n",
    "print(a.capitalize())"
   ]
  },
  {
   "cell_type": "code",
   "execution_count": 4,
   "metadata": {},
   "outputs": [
    {
     "name": "stdout",
     "output_type": "stream",
     "text": [
      "HELLO25\n",
      "hello25\n",
      "Hello25\n"
     ]
    }
   ],
   "source": [
    "a='Hello25'\n",
    "print(a.upper())\n",
    "print(a.lower())\n",
    "print(a.capitalize())"
   ]
  },
  {
   "cell_type": "code",
   "execution_count": 1,
   "metadata": {},
   "outputs": [
    {
     "name": "stdout",
     "output_type": "stream",
     "text": [
      "HELLO@25\n",
      "hello@25\n",
      "Hello@25\n"
     ]
    }
   ],
   "source": [
    "a='Hello@25'\n",
    "print(a.upper())\n",
    "print(a.lower())\n",
    "print(a.capitalize())"
   ]
  },
  {
   "cell_type": "markdown",
   "metadata": {},
   "source": [
    "#### Explain what happens when the following code is executed and why?\n",
    "\n",
    "> mystr = \"Hello How are you?\"\n",
    "\n",
    "> mystr[6:9] = \"Who\""
   ]
  },
  {
   "cell_type": "code",
   "execution_count": 6,
   "metadata": {},
   "outputs": [
    {
     "ename": "TypeError",
     "evalue": "'str' object does not support item assignment",
     "output_type": "error",
     "traceback": [
      "\u001b[1;31m---------------------------------------------------------------------------\u001b[0m",
      "\u001b[1;31mTypeError\u001b[0m                                 Traceback (most recent call last)",
      "Input \u001b[1;32mIn [6]\u001b[0m, in \u001b[0;36m<cell line: 2>\u001b[1;34m()\u001b[0m\n\u001b[0;32m      1\u001b[0m mystr \u001b[38;5;241m=\u001b[39m \u001b[38;5;124m\"\u001b[39m\u001b[38;5;124mHello How are you?\u001b[39m\u001b[38;5;124m\"\u001b[39m\n\u001b[1;32m----> 2\u001b[0m mystr[\u001b[38;5;241m6\u001b[39m:\u001b[38;5;241m9\u001b[39m] \u001b[38;5;241m=\u001b[39m \u001b[38;5;124m\"\u001b[39m\u001b[38;5;124mWho\u001b[39m\u001b[38;5;124m\"\u001b[39m\n",
      "\u001b[1;31mTypeError\u001b[0m: 'str' object does not support item assignment"
     ]
    }
   ],
   "source": [
    "mystr = \"Hello How are you?\"\n",
    "mystr[6:9] = \"Who\""
   ]
  },
  {
   "cell_type": "markdown",
   "metadata": {},
   "source": [
    "#### Take a user input string and check if the string is a palindrome:\n",
    "\n",
    "- **mystr = \"madam\", output is True**\n",
    "- **mystr = \"Hello\", output is False**"
   ]
  },
  {
   "cell_type": "code",
   "execution_count": 1,
   "metadata": {},
   "outputs": [
    {
     "data": {
      "text/plain": [
       "True"
      ]
     },
     "execution_count": 1,
     "metadata": {},
     "output_type": "execute_result"
    }
   ],
   "source": [
    "mystr = \"madam\"\n",
    "mystr==mystr[::-1]"
   ]
  },
  {
   "cell_type": "code",
   "execution_count": 2,
   "metadata": {},
   "outputs": [
    {
     "data": {
      "text/plain": [
       "False"
      ]
     },
     "execution_count": 2,
     "metadata": {},
     "output_type": "execute_result"
    }
   ],
   "source": [
    "mystr = \"Hello\"\n",
    "mystr==mystr[::-1]\n"
   ]
  },
  {
   "cell_type": "markdown",
   "metadata": {},
   "source": [
    "#### Take user input: Side of a square and calculate \n",
    "1. Area of square \n",
    "2. Perimeter of square"
   ]
  },
  {
   "cell_type": "code",
   "execution_count": 3,
   "metadata": {},
   "outputs": [
    {
     "data": {
      "text/plain": [
       "4"
      ]
     },
     "execution_count": 3,
     "metadata": {},
     "output_type": "execute_result"
    }
   ],
   "source": [
    "side=2\n",
    "Area=side*side\n",
    "Area"
   ]
  },
  {
   "cell_type": "markdown",
   "metadata": {},
   "source": [
    "#### Take a user input `num` and check if the number is True or not\n",
    "\n",
    "Eg: If input is 6, output True, for input 77 output False"
   ]
  },
  {
   "cell_type": "code",
   "execution_count": 3,
   "metadata": {},
   "outputs": [
    {
     "name": "stdout",
     "output_type": "stream",
     "text": [
      "False\n"
     ]
    }
   ],
   "source": [
    "num=77\n",
    "if(num==6):\n",
    "    print('True')\n",
    "else:\n",
    "    print('False')"
   ]
  },
  {
   "cell_type": "markdown",
   "metadata": {},
   "source": [
    "#### Take user input in numbers and return the number in reverse order multiplied by 10\n",
    "Eg: Input = 83746 then output 647380"
   ]
  },
  {
   "cell_type": "code",
   "execution_count": 8,
   "metadata": {},
   "outputs": [
    {
     "name": "stdout",
     "output_type": "stream",
     "text": [
      "647380\n"
     ]
    }
   ],
   "source": [
    "num = 83746\n",
    "rev = 0\n",
    "while(num>0):\n",
    "    rem = num%10\n",
    "    rev = (rev*10)+rem\n",
    "    num = num//10\n",
    "b = rev*10\n",
    "print(b)"
   ]
  },
  {
   "cell_type": "markdown",
   "metadata": {},
   "source": [
    "#### Find square root of given number without using math.sqrt function"
   ]
  },
  {
   "cell_type": "code",
   "execution_count": 16,
   "metadata": {},
   "outputs": [
    {
     "name": "stdout",
     "output_type": "stream",
     "text": [
      "4\n"
     ]
    }
   ],
   "source": [
    "num = 16\n",
    "res=num**0.5\n",
    "print(int(res))"
   ]
  },
  {
   "cell_type": "markdown",
   "metadata": {},
   "source": [
    "#### Take user input string and return the first half of the string in same order and the second half in reverse\n",
    "For Eg: \n",
    "- Input: \"Hello How are you?\" Output: \"Hello How ?uoy era\"\n",
    "- Input: \"randomstring\" Output: \"randomgnirts\""
   ]
  },
  {
   "cell_type": "code",
   "execution_count": 12,
   "metadata": {},
   "outputs": [
    {
     "name": "stdout",
     "output_type": "stream",
     "text": [
      "randomgnirts\n"
     ]
    }
   ],
   "source": [
    "n = 'randomstring'\n",
    "a=  'random'\n",
    "b= 'string'\n",
    "c=  b[::-1]\n",
    "print(a+c)\n"
   ]
  },
  {
   "cell_type": "markdown",
   "metadata": {},
   "source": [
    "#### Create a string from the input string with only odd index characters:\n",
    "Eg: Input = \"Python Programming\" then Output = \"yhnPormig\""
   ]
  },
  {
   "cell_type": "code",
   "execution_count": 26,
   "metadata": {},
   "outputs": [
    {
     "data": {
      "text/plain": [
       "'yhnPormig'"
      ]
     },
     "execution_count": 26,
     "metadata": {},
     "output_type": "execute_result"
    }
   ],
   "source": [
    "a= \"Python Programming\"\n",
    "a[1:18:2]"
   ]
  },
  {
   "cell_type": "markdown",
   "metadata": {},
   "source": [
    "#### Take 2 numbers and give back sum of squares of the numbers: "
   ]
  },
  {
   "cell_type": "code",
   "execution_count": 15,
   "metadata": {},
   "outputs": [
    {
     "name": "stdout",
     "output_type": "stream",
     "text": [
      "the sum of squares of a and b is 13\n"
     ]
    }
   ],
   "source": [
    "a=int(2)\n",
    "\n",
    "b=int(3)\n",
    "\n",
    "c= a*a + b*b\n",
    "\n",
    "print(\"the sum of squares of a and b is\",c)"
   ]
  },
  {
   "cell_type": "markdown",
   "metadata": {},
   "source": [
    "#### For inputs mystr, n1 and n2, remove the part of string from index n1 to n2:\n",
    "Eg: Inputs - mystr = \"Parallelogram\", n1 = 3, n2 = 7, then Output = \"Parogram\""
   ]
  },
  {
   "cell_type": "code",
   "execution_count": 32,
   "metadata": {},
   "outputs": [
    {
     "name": "stdout",
     "output_type": "stream",
     "text": [
      "parogram\n"
     ]
    }
   ],
   "source": [
    "input=\"parallogram\"\n",
    "a=input[0:3]\n",
    "b=input[6:13]\n",
    "c=a+b\n",
    "print(c)\n"
   ]
  },
  {
   "cell_type": "markdown",
   "metadata": {},
   "source": [
    "#### Take 2 inputs: String and a character. Give the string after the specified character\n",
    "Eg: Str = \"Exaggerate\", char = \"a\" then Output = \"ggerate\""
   ]
  },
  {
   "cell_type": "code",
   "execution_count": 6,
   "metadata": {},
   "outputs": [
    {
     "data": {
      "text/plain": [
       "'ggerate'"
      ]
     },
     "execution_count": 6,
     "metadata": {},
     "output_type": "execute_result"
    }
   ],
   "source": [
    "Str = \"Exaggerate\"\n",
    "Str[3::]"
   ]
  },
  {
   "cell_type": "markdown",
   "metadata": {},
   "source": [
    "#### Take 2 string inputs and return length of the bigger string"
   ]
  },
  {
   "cell_type": "code",
   "execution_count": 35,
   "metadata": {},
   "outputs": [
    {
     "name": "stdout",
     "output_type": "stream",
     "text": [
      "mukesh chowdary\n"
     ]
    }
   ],
   "source": [
    "a=\"mukesh\"\n",
    "b=\"mukesh chowdary\"\n",
    "c=len(a)\n",
    "d=len(b)\n",
    "if(c>d):\n",
    "    print(a)\n",
    "else:\n",
    "    print(b)"
   ]
  },
  {
   "cell_type": "markdown",
   "metadata": {},
   "source": [
    "#### Take 2 inputs, str1 is topic, str2 is username. Using single f-string, assuming str1 is Python and str2 is User, print:\n",
    "\n",
    "\n",
    ">Hello User,\n",
    "\n",
    ">Welcome to Python Programming\n",
    "\n",
    ">Have a great day!\n",
    "\n"
   ]
  },
  {
   "cell_type": "code",
   "execution_count": 24,
   "metadata": {},
   "outputs": [
    {
     "name": "stdout",
     "output_type": "stream",
     "text": [
      "Enter welcome message:\n",
      "Hello mukesh\n",
      " Welcome to Python Programming\n",
      " Have a great day! \n"
     ]
    }
   ],
   "source": [
    "message=input(\"Enter welcome message:\")\n",
    "\n",
    "print(\"Hello mukesh\\n\",\"Welcome to Python Programming\\n\",\"Have a great day!\",message)\n"
   ]
  },
  {
   "cell_type": "code",
   "execution_count": null,
   "metadata": {},
   "outputs": [],
   "source": []
  },
  {
   "cell_type": "code",
   "execution_count": null,
   "metadata": {},
   "outputs": [],
   "source": []
  }
 ],
 "metadata": {
  "kernelspec": {
   "display_name": "Python 3 (ipykernel)",
   "language": "python",
   "name": "python3"
  },
  "language_info": {
   "codemirror_mode": {
    "name": "ipython",
    "version": 3
   },
   "file_extension": ".py",
   "mimetype": "text/x-python",
   "name": "python",
   "nbconvert_exporter": "python",
   "pygments_lexer": "ipython3",
   "version": "3.9.12"
  },
  "toc": {
   "base_numbering": 1,
   "nav_menu": {},
   "number_sections": true,
   "sideBar": true,
   "skip_h1_title": true,
   "title_cell": "Table of Contents",
   "title_sidebar": "Contents",
   "toc_cell": true,
   "toc_position": {},
   "toc_section_display": true,
   "toc_window_display": true
  }
 },
 "nbformat": 4,
 "nbformat_minor": 4
}
